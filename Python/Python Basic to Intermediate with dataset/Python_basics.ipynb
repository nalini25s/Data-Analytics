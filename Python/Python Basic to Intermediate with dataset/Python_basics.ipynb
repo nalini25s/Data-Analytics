{
 "cells": [
  {
   "cell_type": "code",
   "execution_count": 1,
   "id": "ceb4b1ef-f973-4dfc-bf16-f0d11baae968",
   "metadata": {},
   "outputs": [
    {
     "name": "stdout",
     "output_type": "stream",
     "text": [
      "Hello World\n"
     ]
    }
   ],
   "source": [
    "print(\"Hello World\")"
   ]
  },
  {
   "cell_type": "code",
   "execution_count": 2,
   "id": "197b545b-baaf-4a00-acbe-ab7f2472b1d3",
   "metadata": {},
   "outputs": [
    {
     "data": {
      "text/plain": [
       "7"
      ]
     },
     "execution_count": 2,
     "metadata": {},
     "output_type": "execute_result"
    }
   ],
   "source": [
    "3+4"
   ]
  },
  {
   "cell_type": "code",
   "execution_count": null,
   "id": "9127ec02-82ce-4f2d-ac11-03b488a5c80d",
   "metadata": {},
   "outputs": [
    {
     "name": "stdout",
     "output_type": "stream",
     "text": [
      "BHANU PRAKASH\n"
     ]
    }
   ],
   "source": [
    "print(\"Nalini Sharma\")"
   ]
  },
  {
   "cell_type": "code",
   "execution_count": null,
   "id": "cecb663b-f82a-4eeb-99fc-c48e2957658e",
   "metadata": {},
   "outputs": [
    {
     "name": "stdout",
     "output_type": "stream",
     "text": [
      "Hi, My name is BHANU and PRAKASH\n"
     ]
    }
   ],
   "source": [
    "a = 10\n",
    "name1 = \"Nalini\"\n",
    "name2 = 'Sharma'\n",
    "print(\"Hi, My name is\", name1, \"and\",name2)"
   ]
  },
  {
   "cell_type": "markdown",
   "id": "47239154-18a1-418b-85a4-b7388542a224",
   "metadata": {},
   "source": [
    "### Understanding Comments"
   ]
  },
  {
   "cell_type": "code",
   "execution_count": 5,
   "id": "665b5f69-67c0-45e8-9921-2bfa562a812a",
   "metadata": {},
   "outputs": [
    {
     "name": "stdout",
     "output_type": "stream",
     "text": [
      "BHANU PRAKASH\n"
     ]
    }
   ],
   "source": [
    "#This is one line commenting option\n",
    "print(\"BHANU PRAKASH\")"
   ]
  },
  {
   "cell_type": "code",
   "execution_count": 6,
   "id": "1d442218-b17f-430d-9c5e-10a52cde5124",
   "metadata": {},
   "outputs": [
    {
     "name": "stdout",
     "output_type": "stream",
     "text": [
      "BHANU PRAKASH\n"
     ]
    }
   ],
   "source": [
    "\"\"\"\n",
    "This is a multiline commenting option\n",
    "where I can add multiple lines under this section\n",
    "\"\"\"\n",
    "print(\"BHANU PRAKASH\")"
   ]
  },
  {
   "cell_type": "markdown",
   "id": "dff8da14-107f-4270-917c-597d4b983148",
   "metadata": {},
   "source": [
    "## Data Types"
   ]
  },
  {
   "cell_type": "code",
   "execution_count": 7,
   "id": "0c5d5602-6e2c-4431-8113-3ce7908a8bc0",
   "metadata": {},
   "outputs": [],
   "source": [
    "#Integer\n",
    "# old fashion of writing a code\n",
    "# int a = 10\n",
    "ivar = 10"
   ]
  },
  {
   "cell_type": "code",
   "execution_count": 8,
   "id": "394193e6-39be-491a-be3d-2656ba7a9d7f",
   "metadata": {},
   "outputs": [
    {
     "name": "stdout",
     "output_type": "stream",
     "text": [
      "10\n"
     ]
    }
   ],
   "source": [
    "print(ivar)"
   ]
  },
  {
   "cell_type": "code",
   "execution_count": 9,
   "id": "3b16d7f4-c1a0-4658-9ad4-1a6b8f0e0b3a",
   "metadata": {},
   "outputs": [
    {
     "name": "stdout",
     "output_type": "stream",
     "text": [
      "<class 'int'>\n"
     ]
    }
   ],
   "source": [
    "print(type(ivar))"
   ]
  },
  {
   "cell_type": "code",
   "execution_count": 10,
   "id": "662040c2-efb1-4b97-8d22-3417c417888d",
   "metadata": {},
   "outputs": [],
   "source": [
    "#float\n",
    "fvar = 10.25"
   ]
  },
  {
   "cell_type": "code",
   "execution_count": 11,
   "id": "c8efca2e-7d43-4862-b60a-c02f2698c801",
   "metadata": {},
   "outputs": [
    {
     "name": "stdout",
     "output_type": "stream",
     "text": [
      "<class 'float'>\n"
     ]
    }
   ],
   "source": [
    "print(type(fvar))"
   ]
  },
  {
   "cell_type": "code",
   "execution_count": 12,
   "id": "191dd623-2d61-4f99-b99f-e2eeeac3e15b",
   "metadata": {},
   "outputs": [
    {
     "name": "stdout",
     "output_type": "stream",
     "text": [
      "<class 'str'>\n"
     ]
    }
   ],
   "source": [
    "#string\n",
    "svar = \"String\"\n",
    "print(type(svar))"
   ]
  },
  {
   "cell_type": "code",
   "execution_count": 13,
   "id": "62fb4fad-05ed-451c-9ebe-1b941724b300",
   "metadata": {},
   "outputs": [
    {
     "name": "stdout",
     "output_type": "stream",
     "text": [
      "<class 'bool'>\n"
     ]
    }
   ],
   "source": [
    "#boolean\n",
    "bvar = True\n",
    "print(type(bvar))"
   ]
  },
  {
   "cell_type": "code",
   "execution_count": 14,
   "id": "920d1784-4b8a-43ba-a359-fe3c2da575c5",
   "metadata": {},
   "outputs": [
    {
     "name": "stdout",
     "output_type": "stream",
     "text": [
      "<class 'str'>\n"
     ]
    }
   ],
   "source": [
    "#default var\n",
    "dvar = \"10.25\"\n",
    "print(type(dvar))"
   ]
  },
  {
   "cell_type": "markdown",
   "id": "71ed221f-c343-403b-bc42-d8ac1dcf4cd5",
   "metadata": {},
   "source": [
    "## Adding two numbers"
   ]
  },
  {
   "cell_type": "code",
   "execution_count": 1,
   "id": "a1e9ad57-0312-475c-94d3-53b66ce73ef8",
   "metadata": {},
   "outputs": [
    {
     "name": "stdout",
     "output_type": "stream",
     "text": [
      "5\n"
     ]
    }
   ],
   "source": [
    "#Adding two Static numbers\n",
    "x = 3\n",
    "y = 2\n",
    "print(x+y)"
   ]
  },
  {
   "cell_type": "markdown",
   "id": "39564e2f-4e17-499b-97d4-0b170527ea47",
   "metadata": {},
   "source": [
    "### Adding Dynamic numbers\n"
   ]
  },
  {
   "cell_type": "markdown",
   "id": "0b3cfcae-53f6-43a2-9bd2-2b8cbf133ff5",
   "metadata": {},
   "source": [
    "### x = input(\"Enter Firt number: \")\n",
    "y = input(\"Enter Second number: \")\n",
    "sum = int(x) + int(y)\n",
    "print(\"The result is: \",sum)"
   ]
  },
  {
   "cell_type": "code",
   "execution_count": 2,
   "id": "df304920-52d2-4cc7-9029-0731d3258dbd",
   "metadata": {},
   "outputs": [
    {
     "name": "stdout",
     "output_type": "stream",
     "text": [
      "5\n"
     ]
    }
   ],
   "source": [
    "x = 3\n",
    "y = 2\n",
    "z = x+y\n",
    "print(z)"
   ]
  },
  {
   "cell_type": "code",
   "execution_count": 3,
   "id": "357d1912-f19a-41c3-a086-8b6fdb20bf64",
   "metadata": {},
   "outputs": [
    {
     "name": "stdout",
     "output_type": "stream",
     "text": [
      "<class 'int'>\n"
     ]
    }
   ],
   "source": [
    "print(type(z))"
   ]
  },
  {
   "cell_type": "code",
   "execution_count": 4,
   "id": "252d6668-9ff4-4f87-adf4-197d8614b970",
   "metadata": {},
   "outputs": [
    {
     "name": "stdout",
     "output_type": "stream",
     "text": [
      "5.359999999999999\n",
      "<class 'float'>\n"
     ]
    }
   ],
   "source": [
    "x = 3\n",
    "y = 2.36\n",
    "z = x+y\n",
    "print(z)\n",
    "print(type(z))"
   ]
  },
  {
   "cell_type": "code",
   "execution_count": 5,
   "id": "32ce17a5-22c5-446b-aa8b-9f5bc56854df",
   "metadata": {},
   "outputs": [
    {
     "ename": "TypeError",
     "evalue": "unsupported operand type(s) for +: 'int' and 'str'",
     "output_type": "error",
     "traceback": [
      "\u001b[1;31m---------------------------------------------------------------------------\u001b[0m",
      "\u001b[1;31mTypeError\u001b[0m                                 Traceback (most recent call last)",
      "Cell \u001b[1;32mIn[5], line 3\u001b[0m\n\u001b[0;32m      1\u001b[0m x \u001b[38;5;241m=\u001b[39m \u001b[38;5;241m3\u001b[39m\n\u001b[0;32m      2\u001b[0m y \u001b[38;5;241m=\u001b[39m \u001b[38;5;124m\"\u001b[39m\u001b[38;5;124mhello\u001b[39m\u001b[38;5;124m\"\u001b[39m\n\u001b[1;32m----> 3\u001b[0m z \u001b[38;5;241m=\u001b[39m x\u001b[38;5;241m+\u001b[39my\n\u001b[0;32m      4\u001b[0m \u001b[38;5;28mprint\u001b[39m(z)\n\u001b[0;32m      5\u001b[0m \u001b[38;5;28mprint\u001b[39m(\u001b[38;5;28mtype\u001b[39m(z))\n",
      "\u001b[1;31mTypeError\u001b[0m: unsupported operand type(s) for +: 'int' and 'str'"
     ]
    }
   ],
   "source": [
    "x = 3\n",
    "y = \"hello\"\n",
    "z = x+y\n",
    "print(z)\n",
    "print(type(z))"
   ]
  },
  {
   "cell_type": "code",
   "execution_count": 6,
   "id": "34923176-98e3-438b-9a05-55768c2df484",
   "metadata": {},
   "outputs": [
    {
     "name": "stdout",
     "output_type": "stream",
     "text": [
      "3hello\n",
      "<class 'str'>\n"
     ]
    }
   ],
   "source": [
    "x = 3\n",
    "y = \"hello\"\n",
    "z = str(x)+y\n",
    "print(z)\n",
    "print(type(z))"
   ]
  },
  {
   "cell_type": "markdown",
   "id": "6f5d418f-3130-4c68-9e15-b9113ebed54e",
   "metadata": {},
   "source": [
    "## DATA STRUCTURE - Basic Array"
   ]
  },
  {
   "cell_type": "code",
   "execution_count": 7,
   "id": "3c534611-26a3-4024-99b4-9c82d07ee705",
   "metadata": {},
   "outputs": [],
   "source": [
    "#array[3] example consider as int array\n",
    "# 3    2     8\n",
    "# 0    1     2      index\n",
    "# size of the array - 1 will be your final index\n",
    "\n"
   ]
  },
  {
   "cell_type": "markdown",
   "id": "6f6f6826-7b88-424d-8189-06fc0236d8c2",
   "metadata": {},
   "source": [
    "### Lists"
   ]
  },
  {
   "cell_type": "code",
   "execution_count": 8,
   "id": "5b3f4426-77c8-4837-b6a9-75f0437cfa9d",
   "metadata": {},
   "outputs": [],
   "source": [
    "lvar = [56, \"da06\", 6, \"hello\", 12.58]"
   ]
  },
  {
   "cell_type": "code",
   "execution_count": 9,
   "id": "e3765c07-32b8-44f5-9fe1-b76179538548",
   "metadata": {},
   "outputs": [
    {
     "name": "stdout",
     "output_type": "stream",
     "text": [
      "<class 'list'>\n"
     ]
    }
   ],
   "source": [
    "print(type(lvar))"
   ]
  },
  {
   "cell_type": "code",
   "execution_count": 11,
   "id": "4fc672ea-63d2-4b58-a34a-e55076800e4c",
   "metadata": {},
   "outputs": [
    {
     "name": "stdout",
     "output_type": "stream",
     "text": [
      "[56, 'da06', 6, 'hello', 12.58]\n"
     ]
    }
   ],
   "source": [
    "print(lvar)"
   ]
  },
  {
   "cell_type": "code",
   "execution_count": 12,
   "id": "cf8aa763-8f12-416c-9735-ba25ad3de5eb",
   "metadata": {},
   "outputs": [
    {
     "data": {
      "text/plain": [
       "'hello'"
      ]
     },
     "execution_count": 12,
     "metadata": {},
     "output_type": "execute_result"
    }
   ],
   "source": [
    "lvar[3]"
   ]
  },
  {
   "cell_type": "code",
   "execution_count": 13,
   "id": "66dfd10d-fbe6-4a2b-89a4-527b3c9bd3a5",
   "metadata": {},
   "outputs": [
    {
     "data": {
      "text/plain": [
       "[6, 'hello']"
      ]
     },
     "execution_count": 13,
     "metadata": {},
     "output_type": "execute_result"
    }
   ],
   "source": [
    "#slicing\n",
    "lvar[2:4] # values between 2 and 4-1"
   ]
  },
  {
   "cell_type": "code",
   "execution_count": 14,
   "id": "c6709e46-2a29-4787-a27d-f6f6da449bc9",
   "metadata": {},
   "outputs": [
    {
     "data": {
      "text/plain": [
       "[6, 'hello', 12.58]"
      ]
     },
     "execution_count": 14,
     "metadata": {},
     "output_type": "execute_result"
    }
   ],
   "source": [
    "lvar[2:]"
   ]
  },
  {
   "cell_type": "code",
   "execution_count": 15,
   "id": "6e9a6310-1099-4827-955d-5e2d1c2fdbf6",
   "metadata": {},
   "outputs": [
    {
     "data": {
      "text/plain": [
       "[56, 'da06', 6, 'hello']"
      ]
     },
     "execution_count": 15,
     "metadata": {},
     "output_type": "execute_result"
    }
   ],
   "source": [
    "lvar[:4]"
   ]
  },
  {
   "cell_type": "code",
   "execution_count": 16,
   "id": "5567a50e-4614-49e8-855e-8b550e9a1c90",
   "metadata": {},
   "outputs": [
    {
     "data": {
      "text/plain": [
       "[56, 'da06', 6, 'hello', 12.58]"
      ]
     },
     "execution_count": 16,
     "metadata": {},
     "output_type": "execute_result"
    }
   ],
   "source": [
    "lvar"
   ]
  },
  {
   "cell_type": "code",
   "execution_count": 17,
   "id": "c3f14e33-1b65-447a-a68f-a58eca4f278c",
   "metadata": {},
   "outputs": [],
   "source": [
    "lvar.append(\"Number\")"
   ]
  },
  {
   "cell_type": "code",
   "execution_count": 18,
   "id": "4ba9c447-ec99-4626-ad55-1ceddbe8cabb",
   "metadata": {},
   "outputs": [
    {
     "data": {
      "text/plain": [
       "[56, 'da06', 6, 'hello', 12.58, 'Number']"
      ]
     },
     "execution_count": 18,
     "metadata": {},
     "output_type": "execute_result"
    }
   ],
   "source": [
    "lvar"
   ]
  },
  {
   "cell_type": "code",
   "execution_count": 19,
   "id": "16c13d98-ba6c-4c6c-993e-688e020cbef3",
   "metadata": {},
   "outputs": [],
   "source": [
    "lvar.insert(2,\"bash\")"
   ]
  },
  {
   "cell_type": "code",
   "execution_count": 20,
   "id": "9e6b49ee-f6a9-4d7b-ab96-edddd833728c",
   "metadata": {},
   "outputs": [
    {
     "data": {
      "text/plain": [
       "[56, 'da06', 'bash', 6, 'hello', 12.58, 'Number']"
      ]
     },
     "execution_count": 20,
     "metadata": {},
     "output_type": "execute_result"
    }
   ],
   "source": [
    "lvar"
   ]
  },
  {
   "cell_type": "code",
   "execution_count": 21,
   "id": "4c8cab86-2250-49dc-8142-6311446c653c",
   "metadata": {},
   "outputs": [],
   "source": [
    "lvar2 = lvar"
   ]
  },
  {
   "cell_type": "code",
   "execution_count": 22,
   "id": "c401a985-8982-4989-921a-217b40368a62",
   "metadata": {},
   "outputs": [
    {
     "data": {
      "text/plain": [
       "[56, 'da06', 'bash', 6, 'hello', 12.58, 'Number']"
      ]
     },
     "execution_count": 22,
     "metadata": {},
     "output_type": "execute_result"
    }
   ],
   "source": [
    "lvar2"
   ]
  },
  {
   "cell_type": "code",
   "execution_count": 23,
   "id": "9914b329-bed3-4298-989f-f1f55e1c00dc",
   "metadata": {},
   "outputs": [],
   "source": [
    "lvar2.clear()"
   ]
  },
  {
   "cell_type": "code",
   "execution_count": 24,
   "id": "1a726687-8f77-41d4-9a1e-759e2e469289",
   "metadata": {},
   "outputs": [
    {
     "data": {
      "text/plain": [
       "[]"
      ]
     },
     "execution_count": 24,
     "metadata": {},
     "output_type": "execute_result"
    }
   ],
   "source": [
    "lvar2"
   ]
  },
  {
   "cell_type": "code",
   "execution_count": 25,
   "id": "c71a1416-1a2e-4c84-b747-2b403a48f4a7",
   "metadata": {},
   "outputs": [],
   "source": [
    "del lvar2"
   ]
  },
  {
   "cell_type": "code",
   "execution_count": 26,
   "id": "03f6264e-5752-4582-81eb-4127023dc59f",
   "metadata": {},
   "outputs": [
    {
     "ename": "NameError",
     "evalue": "name 'lvar2' is not defined",
     "output_type": "error",
     "traceback": [
      "\u001b[1;31m---------------------------------------------------------------------------\u001b[0m",
      "\u001b[1;31mNameError\u001b[0m                                 Traceback (most recent call last)",
      "Cell \u001b[1;32mIn[26], line 1\u001b[0m\n\u001b[1;32m----> 1\u001b[0m lvar2\n",
      "\u001b[1;31mNameError\u001b[0m: name 'lvar2' is not defined"
     ]
    }
   ],
   "source": [
    "lvar2 = [101, \"ABC\", \"a@b.com\", 6325874]"
   ]
  },
  {
   "cell_type": "markdown",
   "id": "392952a2-9b2e-4ae0-9f73-a6d216803f7d",
   "metadata": {},
   "source": [
    "## Dict"
   ]
  },
  {
   "cell_type": "code",
   "execution_count": 27,
   "id": "ef9cbefc-e66c-483e-8a6b-3b7d3e33898f",
   "metadata": {},
   "outputs": [],
   "source": [
    "dict = {\n",
    "    \"id\": 101,\n",
    "    \"name\": \"ABC\",\n",
    "    \"email\": \"a@b.com\",\n",
    "    \"mno\": 3258964\n",
    "}"
   ]
  },
  {
   "cell_type": "code",
   "execution_count": 28,
   "id": "73fcbbdc-b0d3-4847-94f8-ed5d98512e8e",
   "metadata": {},
   "outputs": [
    {
     "data": {
      "text/plain": [
       "{'id': 101, 'name': 'ABC', 'email': 'a@b.com', 'mno': 3258964}"
      ]
     },
     "execution_count": 28,
     "metadata": {},
     "output_type": "execute_result"
    }
   ],
   "source": [
    "dict"
   ]
  },
  {
   "cell_type": "code",
   "execution_count": 29,
   "id": "b43107c0-5c18-4153-bcd4-963761e1771b",
   "metadata": {},
   "outputs": [
    {
     "name": "stdout",
     "output_type": "stream",
     "text": [
      "<class 'dict'>\n"
     ]
    }
   ],
   "source": [
    "print(type(dict))"
   ]
  },
  {
   "cell_type": "code",
   "execution_count": 31,
   "id": "475b2098-9136-45c8-b28d-345124372eb5",
   "metadata": {},
   "outputs": [
    {
     "data": {
      "text/plain": [
       "'a@b.com'"
      ]
     },
     "execution_count": 31,
     "metadata": {},
     "output_type": "execute_result"
    }
   ],
   "source": [
    "dict[\"email\"]"
   ]
  },
  {
   "cell_type": "code",
   "execution_count": null,
   "id": "328a0cad-8821-4815-9707-fe297b9dced0",
   "metadata": {},
   "outputs": [],
   "source": [
    "dict = {\n",
    "    \"id\": 101,\n",
    "    \"name\": \"ABC\",\n",
    "    \"email\": \"a@b.com\",\n",
    "    \"mno\": 3258964,\n",
    "    \"mart\": [\"\",\"\",\"\"]\n",
    "}"
   ]
  }
 ],
 "metadata": {
  "kernelspec": {
   "display_name": "Python 3 (ipykernel)",
   "language": "python",
   "name": "python3"
  },
  "language_info": {
   "codemirror_mode": {
    "name": "ipython",
    "version": 3
   },
   "file_extension": ".py",
   "mimetype": "text/x-python",
   "name": "python",
   "nbconvert_exporter": "python",
   "pygments_lexer": "ipython3",
   "version": "3.11.7"
  }
 },
 "nbformat": 4,
 "nbformat_minor": 5
}
