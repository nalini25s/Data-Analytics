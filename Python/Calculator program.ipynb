{
 "cells": [
  {
   "cell_type": "code",
   "execution_count": 11,
   "metadata": {},
   "outputs": [
    {
     "name": "stdout",
     "output_type": "stream",
     "text": [
      "7\n"
     ]
    }
   ],
   "source": [
    "#Creating a basic calculator using Operators \"+, -, *, /\"\n",
    "#Addition - Dynamic data\n",
    "num1 = int(input(\"Input the first number\"))\n",
    "num2 = int(input(\"Input the second number\"))\n",
    "result = num1 + num2\n",
    "print(result)"
   ]
  },
  {
   "cell_type": "code",
   "execution_count": null,
   "metadata": {},
   "outputs": [
    {
     "name": "stdout",
     "output_type": "stream",
     "text": [
      "0.2857142857142857\n"
     ]
    }
   ],
   "source": [
    "#create a program that works as a calculator for +,-,*,/\n",
    "num1 = int(input(\"Input the first number\"))\n",
    "num2 = int(input(\"Input the second number\"))\n",
    "operation = input(\"Input any of these operators +,-,*,/\")\n",
    "\n",
    "#implementing using if else conditions\n",
    "if operation == '+':\n",
    "    print(num1+num2)\n",
    "elif operation == '-':\n",
    "    print(num1+num2)\n",
    "elif operation == '*':\n",
    "    print(num1*num2)\n",
    "elif operation == '/':\n",
    "    print(num1/num2)\n",
    "elif operation == '%':\n",
    "    print(num1/num2)\n",
    "else:\n",
    "    print(\"Enter a valid operator\")"
   ]
  },
  {
   "cell_type": "code",
   "execution_count": 12,
   "metadata": {},
   "outputs": [],
   "source": [
    "#Function is a pece of code which we can call multiple times or whenever required\n",
    "#Function may have a parameter/s\n",
    "def addition():\n",
    "    num1 = int(input(\"Input the first number\"))\n",
    "    num2 = int(input(\"Input the second number\"))\n",
    "    result = num1 + num2\n",
    "    print(result)"
   ]
  },
  {
   "cell_type": "code",
   "execution_count": 23,
   "metadata": {},
   "outputs": [],
   "source": [
    "def cal():\n",
    "    num1 = int(input(\"Input the first number\"))\n",
    "    num2 = int(input(\"Input the second number\"))\n",
    "    choice = input(\"Input any of these operators +, -, *, /\")\n",
    "    if choice == '+':\n",
    "        addNums()\n",
    "    elif choice == '-':\n",
    "        subNums()\n",
    "    elif choice == '*':\n",
    "        mulNums()\n",
    "    elif choice == '/':\n",
    "        divNums()\n",
    "    else:\n",
    "        print(\"Enter a valid operator\")\n",
    "def addNums():\n",
    "    print(num1+num2)\n",
    "def subNums():\n",
    "    print(num1-num2)\n",
    "def mulNums():\n",
    "    print(num1*num2)\n",
    "def divNums():\n",
    "    print(num1/num2)\n"
   ]
  },
  {
   "cell_type": "code",
   "execution_count": 24,
   "metadata": {},
   "outputs": [
    {
     "name": "stdout",
     "output_type": "stream",
     "text": [
      "0.75\n"
     ]
    }
   ],
   "source": [
    "cal()"
   ]
  }
 ],
 "metadata": {
  "kernelspec": {
   "display_name": "Python 3",
   "language": "python",
   "name": "python3"
  },
  "language_info": {
   "codemirror_mode": {
    "name": "ipython",
    "version": 3
   },
   "file_extension": ".py",
   "mimetype": "text/x-python",
   "name": "python",
   "nbconvert_exporter": "python",
   "pygments_lexer": "ipython3",
   "version": "3.7.8"
  }
 },
 "nbformat": 4,
 "nbformat_minor": 2
}
