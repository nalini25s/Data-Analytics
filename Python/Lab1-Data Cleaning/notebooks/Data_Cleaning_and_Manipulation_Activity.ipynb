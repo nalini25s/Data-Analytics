{
 "cells": [
  {
   "cell_type": "markdown",
   "id": "a159a478",
   "metadata": {},
   "source": [
    "# Data Cleaning and Manipulation Activity\n",
    "In this activity, you'll clean and prepare two datasets, **Product Inventory** and **Sales Data**, for analysis. "
   ]
  },
  {
   "cell_type": "markdown",
   "id": "fca58799",
   "metadata": {},
   "source": [
    "## Task 1: Data Import\n",
    "1. Import the datasets.\n",
    "    - For the CSV file: Use read_csv. \n",
    "    - For the Excel file: Use read_excel.\n",
    "2. Inspects the structure of the datasets."
   ]
  },
  {
   "cell_type": "code",
   "execution_count": 10,
   "id": "4601bee6",
   "metadata": {},
   "outputs": [
    {
     "name": "stdout",
     "output_type": "stream",
     "text": [
      "Sales Data Info:\n",
      "<class 'pandas.core.frame.DataFrame'>\n",
      "RangeIndex: 5 entries, 0 to 4\n",
      "Data columns (total 5 columns):\n",
      " #   Column      Non-Null Count  Dtype  \n",
      "---  ------      --------------  -----  \n",
      " 0   SaleID      5 non-null      int64  \n",
      " 1   Product_ID  5 non-null      int64  \n",
      " 2   Quantity    5 non-null      int64  \n",
      " 3   Price       4 non-null      float64\n",
      " 4   SaleDate    5 non-null      object \n",
      "dtypes: float64(1), int64(3), object(1)\n",
      "memory usage: 328.0+ bytes\n",
      "None\n",
      "   SaleID  Product_ID  Quantity  Price    SaleDate\n",
      "0       1         101         2  19.99  2024-11-01\n",
      "1       2         102         1  29.99  2024-11-02\n",
      "2       3         103         3    NaN  2024-11-03\n",
      "3       4         101         5  19.99  2024-11-04\n",
      "4       5         104         2  39.99  2024-11-05\n",
      "\n",
      "Inventory Data Info:\n",
      "<class 'pandas.core.frame.DataFrame'>\n",
      "RangeIndex: 5 entries, 0 to 4\n",
      "Data columns (total 3 columns):\n",
      " #   Column       Non-Null Count  Dtype \n",
      "---  ------       --------------  ----- \n",
      " 0   ProductID    5 non-null      int64 \n",
      " 1   ProductName  5 non-null      object\n",
      " 2   Stock        5 non-null      int64 \n",
      "dtypes: int64(2), object(1)\n",
      "memory usage: 248.0+ bytes\n",
      "None\n",
      "   ProductID    ProductName  Stock\n",
      "0        101       Widget A     10\n",
      "1        102       Gadget B      5\n",
      "2        103  Thingamajig C      7\n",
      "3        104    Doohickey D      8\n",
      "4        105  Contraption E      3\n"
     ]
    }
   ],
   "source": [
    "\n",
    "# Import necessary libraries\n",
    "import pandas as pd  # Pandas library is essential for data manipulation\n",
    "\n",
    "# Task 1: Import the datasets\n",
    "# TODO Import the sales data (../data/sales_data.csv)\n",
    "sales_data = pd.read_csv(\"sales_data.csv\") # Load the sales data CSV file\n",
    "\n",
    "# TODO Import the product inventory data (../data/product_inventory.xlsx)\n",
    "inventory_data = pd.read_excel(\"product_inventory.xlsx\") # Load the inventory data Excel file\n",
    "\n",
    "# Inspect the sales data\n",
    "print(\"Sales Data Info:\")\n",
    "print(sales_data.info())  # Inspect structure and data types of sales data\n",
    "print(sales_data.head())  # View the first few rows of sales data\n",
    "# print(sales_data) # if you want to see the whole data set\n",
    "\n",
    "# Inspect the inventory data\n",
    "print(\"\\nInventory Data Info:\")\n",
    "print(inventory_data.info())  # Inspect structure and data types of inventory data\n",
    "print(inventory_data.head())  # View the first few rows of inventory data\n",
    "# print(inventory_data) # if you want to see the whole data set"
   ]
  },
  {
   "cell_type": "markdown",
   "id": "0f82c788",
   "metadata": {},
   "source": [
    "## Task 2: Data Cleaning\n",
    "1. Clean the data.\n",
    "\n",
    "    - When cleaning data, look incosistent format issues and consider the appropriate methods to address them.\n",
    "    - Focus on making the datasets as complete and compatible as possible before moving to the next step. \n",
    "    - Test your work by inspecting the datasets after cleaning.\n",
    "\n",
    "**Checklist:**\n",
    "\n",
    "-   Have you checked for and handled missing values?\n",
    "-   Have you removed duplicate rows if necessary?\n",
    "-   Are all columns in the correct format?\n",
    "-   Are column names consistent across datasets?"
   ]
  },
  {
   "cell_type": "code",
   "execution_count": null,
   "id": "5fc1892e",
   "metadata": {},
   "outputs": [
    {
     "name": "stdout",
     "output_type": "stream",
     "text": [
      "SaleID        0\n",
      "Product_ID    0\n",
      "Quantity      0\n",
      "Price         0\n",
      "SaleDate      0\n",
      "dtype: int64\n",
      "SaleID                 int64\n",
      "Product_ID             int64\n",
      "Quantity               int64\n",
      "Price                float64\n",
      "SaleDate      datetime64[ns]\n",
      "dtype: object\n",
      "<class 'pandas.core.frame.DataFrame'>\n",
      "RangeIndex: 5 entries, 0 to 4\n",
      "Data columns (total 3 columns):\n",
      " #   Column       Non-Null Count  Dtype \n",
      "---  ------       --------------  ----- \n",
      " 0   ProductID    5 non-null      int64 \n",
      " 1   ProductName  5 non-null      object\n",
      " 2   Stock        5 non-null      int64 \n",
      "dtypes: int64(2), object(1)\n",
      "memory usage: 248.0+ bytes\n",
      "None\n",
      "\n",
      "Cleaned Sales Data:\n",
      "   SaleID  Product_ID  Quantity  Price   SaleDate\n",
      "0       1         101         2  19.99 2024-11-01\n",
      "1       2         102         1  29.99 2024-11-02\n",
      "2       3         103         3  27.49 2024-11-03\n",
      "3       4         101         5  19.99 2024-11-04\n",
      "4       5         104         2  39.99 2024-11-05\n",
      "\n",
      "Cleaned Inventory Data:\n",
      "   ProductID    ProductName  Stock\n",
      "0        101       Widget A     10\n",
      "1        102       Gadget B      5\n",
      "2        103  Thingamajig C      7\n",
      "3        104    Doohickey D      8\n",
      "4        105  Contraption E      3\n"
     ]
    }
   ],
   "source": [
    "\n",
    "# Task 2: Data Cleaning\n",
    "# TODO: Clean the data\n",
    "    "
   ]
  },
  {
   "cell_type": "code",
   "execution_count": 18,
   "id": "1310160c",
   "metadata": {},
   "outputs": [
    {
     "name": "stdout",
     "output_type": "stream",
     "text": [
      "SaleID        0\n",
      "Product_ID    0\n",
      "Quantity      0\n",
      "Price         0\n",
      "SaleDate      0\n",
      "dtype: int64\n",
      "ProductID      0\n",
      "ProductName    0\n",
      "Stock          0\n",
      "dtype: int64\n"
     ]
    }
   ],
   "source": [
    "# Check of missing value\n",
    "print(sales_data.isnull().sum())\n",
    "print(inventory_data.isnull().sum())"
   ]
  },
  {
   "cell_type": "code",
   "execution_count": 19,
   "id": "f9adf148",
   "metadata": {},
   "outputs": [
    {
     "name": "stdout",
     "output_type": "stream",
     "text": [
      "SaleID                 int64\n",
      "Product_ID             int64\n",
      "Quantity               int64\n",
      "Price                float64\n",
      "SaleDate      datetime64[ns]\n",
      "dtype: object\n",
      "<class 'pandas.core.frame.DataFrame'>\n",
      "RangeIndex: 5 entries, 0 to 4\n",
      "Data columns (total 3 columns):\n",
      " #   Column       Non-Null Count  Dtype \n",
      "---  ------       --------------  ----- \n",
      " 0   ProductID    5 non-null      int64 \n",
      " 1   ProductName  5 non-null      object\n",
      " 2   Stock        5 non-null      int64 \n",
      "dtypes: int64(2), object(1)\n",
      "memory usage: 248.0+ bytes\n",
      "None\n"
     ]
    }
   ],
   "source": [
    "# Check data types of all columns\n",
    "print(sales_data.dtypes)\n",
    "print(inventory_data.info())"
   ]
  },
  {
   "cell_type": "code",
   "execution_count": 22,
   "id": "34e96295",
   "metadata": {},
   "outputs": [],
   "source": [
    "#Fill missing value in Price with average value\n",
    "sales_data['Price'] = sales_data['Price'].fillna(sales_data['Price'].mean())"
   ]
  },
  {
   "cell_type": "code",
   "execution_count": 23,
   "id": "71436426",
   "metadata": {},
   "outputs": [],
   "source": [
    "#Convert datetime in correct format for SaleDate\n",
    "sales_data['SaleDate'] = pd.to_datetime(sales_data['SaleDate'],errors='coerce')"
   ]
  },
  {
   "cell_type": "code",
   "execution_count": 24,
   "id": "32921775",
   "metadata": {},
   "outputs": [
    {
     "name": "stdout",
     "output_type": "stream",
     "text": [
      "\n",
      "Cleaned Sales Data:\n",
      "   SaleID  Product_ID  Quantity  Price   SaleDate\n",
      "0       1         101         2  19.99 2024-11-01\n",
      "1       2         102         1  29.99 2024-11-02\n",
      "2       3         103         3  27.49 2024-11-03\n",
      "3       4         101         5  19.99 2024-11-04\n",
      "4       5         104         2  39.99 2024-11-05\n",
      "\n",
      "Cleaned Inventory Data:\n",
      "   ProductID    ProductName  Stock\n",
      "0        101       Widget A     10\n",
      "1        102       Gadget B      5\n",
      "2        103  Thingamajig C      7\n",
      "3        104    Doohickey D      8\n",
      "4        105  Contraption E      3\n"
     ]
    }
   ],
   "source": [
    "# Verify cleaning steps\n",
    "print(\"\\nCleaned Sales Data:\")\n",
    "print(sales_data.head())\n",
    "print(\"\\nCleaned Inventory Data:\")\n",
    "print(inventory_data.head())"
   ]
  },
  {
   "cell_type": "code",
   "execution_count": 25,
   "id": "526250b9",
   "metadata": {},
   "outputs": [],
   "source": [
    "# Standardise text columns by stripping spaces\n",
    "inventory_data['ProductName'] = inventory_data['ProductName'].str.strip()"
   ]
  },
  {
   "cell_type": "code",
   "execution_count": 26,
   "id": "e27ebe4e",
   "metadata": {},
   "outputs": [
    {
     "name": "stdout",
     "output_type": "stream",
     "text": [
      "['Widget A' 'Gadget B' 'Thingamajig C' 'Doohickey D' 'Contraption E']\n"
     ]
    }
   ],
   "source": [
    "#View unique values after cleaning\n",
    "print(inventory_data['ProductName'].unique())\n"
   ]
  },
  {
   "cell_type": "code",
   "execution_count": 28,
   "id": "44376768",
   "metadata": {},
   "outputs": [
    {
     "name": "stdout",
     "output_type": "stream",
     "text": [
      "   Product_ID    ProductName  Stock\n",
      "0         101       Widget A     10\n",
      "1         102       Gadget B      5\n",
      "2         103  Thingamajig C      7\n",
      "3         104    Doohickey D      8\n",
      "4         105  Contraption E      3\n"
     ]
    }
   ],
   "source": [
    "# Rename mismatched column to match the current dataset\n",
    "inventory_data.rename(columns={'ProductID': 'Product_ID'}, inplace=True)\n",
    "print(inventory_data)\n"
   ]
  },
  {
   "cell_type": "code",
   "execution_count": null,
   "id": "0f05a333",
   "metadata": {},
   "outputs": [],
   "source": [
    "#Final sales data for further analysis\n",
    "sales_data.to_csv(\"final_sales_data.csv\")"
   ]
  },
  {
   "cell_type": "code",
   "execution_count": 31,
   "id": "6f42253d",
   "metadata": {},
   "outputs": [
    {
     "name": "stdout",
     "output_type": "stream",
     "text": [
      "   Unnamed: 0  SaleID  Product_ID  Quantity  Price    SaleDate\n",
      "0           0       1         101         2  19.99  2024-11-01\n",
      "1           1       2         102         1  29.99  2024-11-02\n",
      "2           2       3         103         3  27.49  2024-11-03\n",
      "3           3       4         101         5  19.99  2024-11-04\n",
      "4           4       5         104         2  39.99  2024-11-05\n"
     ]
    }
   ],
   "source": [
    "final_sales_data = pd.read_csv(\"final_sales_data.csv\")\n",
    "print(final_sales_data.head())"
   ]
  },
  {
   "cell_type": "code",
   "execution_count": 32,
   "id": "6cc1eda2",
   "metadata": {},
   "outputs": [],
   "source": [
    "#Final inventory data for further analysis\n",
    "inventory_data.to_csv(\"final_inventory_data.csv\")"
   ]
  },
  {
   "cell_type": "code",
   "execution_count": 33,
   "id": "f7e31f94",
   "metadata": {},
   "outputs": [
    {
     "name": "stdout",
     "output_type": "stream",
     "text": [
      "   Unnamed: 0  Product_ID    ProductName  Stock\n",
      "0           0         101       Widget A     10\n",
      "1           1         102       Gadget B      5\n",
      "2           2         103  Thingamajig C      7\n",
      "3           3         104    Doohickey D      8\n",
      "4           4         105  Contraption E      3\n"
     ]
    }
   ],
   "source": [
    "final_inventory_data = pd.read_csv(\"final_inventory_data.csv\")\n",
    "print(final_inventory_data.head())"
   ]
  },
  {
   "cell_type": "markdown",
   "id": "81c72810",
   "metadata": {},
   "source": [
    "## Task 3: Data Merging\n",
    "1. Merge the sales and inventory data."
   ]
  },
  {
   "cell_type": "code",
   "execution_count": 42,
   "id": "c5eafc30",
   "metadata": {},
   "outputs": [],
   "source": [
    "\n",
    "# Task 3: Data Merging\n",
    "# Merge sales and inventory data\n",
    "# TODO: Merge the datasets. Replace ColumnName with the key column name\n",
    "merged_data = pd.merge(final_sales_data, final_inventory_data, on='Product_ID', how='left') \n",
    "    "
   ]
  },
  {
   "cell_type": "code",
   "execution_count": 43,
   "id": "a1e398de",
   "metadata": {},
   "outputs": [
    {
     "name": "stdout",
     "output_type": "stream",
     "text": [
      "\n",
      "Merged Data Info:\n",
      "<class 'pandas.core.frame.DataFrame'>\n",
      "Int64Index: 5 entries, 0 to 4\n",
      "Data columns (total 9 columns):\n",
      " #   Column        Non-Null Count  Dtype  \n",
      "---  ------        --------------  -----  \n",
      " 0   Unnamed: 0_x  5 non-null      int64  \n",
      " 1   SaleID        5 non-null      int64  \n",
      " 2   Product_ID    5 non-null      int64  \n",
      " 3   Quantity      5 non-null      int64  \n",
      " 4   Price         5 non-null      float64\n",
      " 5   SaleDate      5 non-null      object \n",
      " 6   Unnamed: 0_y  5 non-null      int64  \n",
      " 7   ProductName   5 non-null      object \n",
      " 8   Stock         5 non-null      int64  \n",
      "dtypes: float64(1), int64(6), object(2)\n",
      "memory usage: 400.0+ bytes\n",
      "None\n",
      "   Unnamed: 0_x  SaleID  Product_ID  Quantity  Price    SaleDate  \\\n",
      "0             0       1         101         2  19.99  2024-11-01   \n",
      "1             1       2         102         1  29.99  2024-11-02   \n",
      "2             2       3         103         3  27.49  2024-11-03   \n",
      "3             3       4         101         5  19.99  2024-11-04   \n",
      "4             4       5         104         2  39.99  2024-11-05   \n",
      "\n",
      "   Unnamed: 0_y    ProductName  Stock  \n",
      "0             0       Widget A     10  \n",
      "1             1       Gadget B      5  \n",
      "2             2  Thingamajig C      7  \n",
      "3             0       Widget A     10  \n",
      "4             3    Doohickey D      8  \n"
     ]
    }
   ],
   "source": [
    "# Inspect merged data\n",
    "print(\"\\nMerged Data Info:\")\n",
    "print(merged_data.info())\n",
    "print(merged_data.head())"
   ]
  },
  {
   "cell_type": "markdown",
   "id": "f01196fe",
   "metadata": {},
   "source": [
    "## Task 4: Group and Aggregate Data\n",
    "1. Summarise the sales data by grouping it based on the product names and calculating the total quantities sold and total prices for each product.\n",
    "\n",
    "    - Identify the column that will act as the group.\n",
    "    - Decide on the aggregation functions to apply for other columns."
   ]
  },
  {
   "cell_type": "code",
   "execution_count": 38,
   "id": "3e13f256",
   "metadata": {},
   "outputs": [
    {
     "name": "stdout",
     "output_type": "stream",
     "text": [
      "\n",
      "Grouped Data (Total Sales per Product):\n",
      "               Quantity  Price\n",
      "ProductName                   \n",
      "Doohickey D           2  39.99\n",
      "Gadget B              1  29.99\n",
      "Thingamajig C         3  27.49\n",
      "Widget A              7  39.98\n"
     ]
    }
   ],
   "source": [
    "\n",
    "# Task 4: Group and Aggregate Data\n",
    "# Group and aggregate data\n",
    "# TODO: Group by products names and calculate total quantities sold and prices for each product.\n",
    "grouped_data = merged_data.groupby('ProductName').agg({'Quantity': 'sum', 'Price': 'sum'}) \n",
    "print(\"\\nGrouped Data (Total Sales per Product):\")\n",
    "print(grouped_data)\n",
    "    "
   ]
  },
  {
   "cell_type": "markdown",
   "id": "c2432cab",
   "metadata": {},
   "source": [
    "## Task 5: Pivot Table\n",
    "\n",
    "1. Create a table that summarises the quantity of products sold on each date, with product names as rows and dates as columns.\n",
    "\n",
    "    - Think about which columns will serve as the `rows` (index) and columns in your table.\n",
    "    - Identify the `values` you want to summarise and how they should be aggregated (e.g., summed up)."
   ]
  },
  {
   "cell_type": "code",
   "execution_count": 45,
   "id": "a9abbcdc",
   "metadata": {},
   "outputs": [
    {
     "name": "stdout",
     "output_type": "stream",
     "text": [
      "\n",
      "Pivot Table (Sales by Product and Date):\n",
      "SaleDate      2024-11-01 2024-11-02 2024-11-03 2024-11-04 2024-11-05\n",
      "ProductName                                                         \n",
      "Doohickey D                                                      2.0\n",
      "Gadget B                        1.0                                 \n",
      "Thingamajig C                              3.0                      \n",
      "Widget A             2.0                              5.0           \n"
     ]
    }
   ],
   "source": [
    "# Task 5: Pivot Table\n",
    "# Create a pivot table\n",
    "# TODO: Create a pivot table to summarise the quantity of products sold on each date, with product names as rows and dates as columns.\n",
    "pivot_table = merged_data.pivot_table(index='ProductName', columns='SaleDate', values='Quantity', aggfunc='sum')  # Define index, columns, values, and aggfunc\n",
    "# Replace NaN values with empty strings\n",
    "pivot_table = pivot_table.fillna('')\n",
    "print(\"\\nPivot Table (Sales by Product and Date):\")\n",
    "print(pivot_table)"
   ]
  },
  {
   "cell_type": "markdown",
   "id": "b296e188",
   "metadata": {},
   "source": [
    "Your grouped data and pivot table are expected to look as follows:\n",
    "\n",
    "\n",
    "### Grouped Data (Total Sales per Product)\n",
    "\n",
    "| Product        | Quantity | Price  |\n",
    "|----------------|----------|--------|\n",
    "| Doohickey D    | 2        | 39.99  |\n",
    "| Gadget B       | 1        | 29.99  |\n",
    "| Thingamajig C  | 3        | 27.49  |\n",
    "| Widget A       | 7        | 39.98  |\n",
    "\n",
    "### Pivot Table (Sales by Product and Date)\n",
    "\n",
    "| Product        | 2024-11-01 | 2024-11-02 | 2024-11-03 | 2024-11-04 | 2024-11-05 |\n",
    "|----------------|------------|------------|------------|------------|------------|\n",
    "| Doohickey D    |            |            |            |            | 2.0        |\n",
    "| Gadget B       |            | 1.0        |            |            |            |\n",
    "| Thingamajig C  |            |            | 3.0        |            |            |\n",
    "| Widget A       | 2.0        |            |            | 5.0        |            |"
   ]
  }
 ],
 "metadata": {
  "kernelspec": {
   "display_name": "Python 3",
   "language": "python",
   "name": "python3"
  },
  "language_info": {
   "codemirror_mode": {
    "name": "ipython",
    "version": 3
   },
   "file_extension": ".py",
   "mimetype": "text/x-python",
   "name": "python",
   "nbconvert_exporter": "python",
   "pygments_lexer": "ipython3",
   "version": "3.7.8"
  }
 },
 "nbformat": 4,
 "nbformat_minor": 5
}
